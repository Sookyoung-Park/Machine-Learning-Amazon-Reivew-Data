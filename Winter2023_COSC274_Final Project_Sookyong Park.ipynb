{
  "cells": [
    {
      "cell_type": "markdown",
      "metadata": {
        "id": "hEVISx52ZrLI"
      },
      "source": [
        "### **Final Project** ###"
      ]
    },
    {
      "cell_type": "markdown",
      "source": [
        "Machine Learning 2023 Winter\n",
        "\n"
      ],
      "metadata": {
        "id": "ET1M3IbWIME_"
      }
    },
    {
      "cell_type": "markdown",
      "source": [
        "Your name (Course ID): Sookyoung Park(f006dsq)"
      ],
      "metadata": {
        "id": "XsEZ0zuwPs7O"
      }
    },
    {
      "cell_type": "markdown",
      "metadata": {
        "id": "tVKiPfa-ZrLL"
      },
      "source": [
        "# Basic Settings"
      ]
    },
    {
      "cell_type": "code",
      "execution_count": 1,
      "metadata": {
        "id": "lWJcpVJaZrLM"
      },
      "outputs": [],
      "source": [
        "import pandas as pd\n",
        "import numpy as np\n",
        "import matplotlib.pyplot as plt\n",
        "import seaborn as sns\n",
        "import random\n",
        "\n",
        "from sklearn.linear_model import LogisticRegression\n",
        "from sklearn.tree import DecisionTreeClassifier\n",
        "from sklearn.naive_bayes import GaussianNB\n",
        "\n",
        "from sklearn.model_selection import cross_val_score, GridSearchCV, train_test_split\n",
        "\n",
        "from sklearn.metrics import accuracy_score, precision_score, recall_score, f1_score, make_scorer\n",
        "from sklearn.metrics import silhouette_score, rand_score,adjusted_rand_score, confusion_matrix, roc_auc_score\n",
        "from sklearn.metrics import roc_curve, auc\n",
        "\n",
        "from sklearn.ensemble import RandomForestClassifier\n",
        "from sklearn.ensemble import GradientBoostingClassifier\n",
        "from sklearn.preprocessing import LabelEncoder\n",
        "\n",
        "from scipy.sparse import hstack, csr_matrix\n",
        "\n",
        "from sklearn.feature_selection import SelectKBest, f_classif\n",
        "from sklearn.feature_extraction.text import TfidfVectorizer\n",
        "\n",
        "\n",
        "from sklearn.cluster import KMeans\n",
        "from sklearn.utils.multiclass import unique_labels\n",
        "\n",
        "from sklearn.feature_extraction.text import CountVectorizer"
      ]
    },
    {
      "cell_type": "code",
      "source": [
        "from google.colab import drive\n",
        "drive.mount('/content/drive')"
      ],
      "metadata": {
        "colab": {
          "base_uri": "https://localhost:8080/"
        },
        "id": "ubKm_lVImQNT",
        "outputId": "014d9f1d-4fa2-4046-ee34-d97b5e71b674"
      },
      "execution_count": 2,
      "outputs": [
        {
          "output_type": "stream",
          "name": "stdout",
          "text": [
            "Mounted at /content/drive\n"
          ]
        }
      ]
    },
    {
      "cell_type": "markdown",
      "metadata": {
        "id": "h2-BFGx1ZrLN"
      },
      "source": [
        "# Read Training/Test data"
      ]
    },
    {
      "cell_type": "code",
      "execution_count": 3,
      "metadata": {
        "scrolled": true,
        "id": "S5AU5qgRZrLN"
      },
      "outputs": [],
      "source": [
        "filename = '/content/drive/My Drive/Colab Notebooks/Training.csv'\n",
        "train_data=pd.read_csv(filename)\n",
        "\n",
        "filename = '/content/drive/My Drive/Colab Notebooks/Test.csv'\n",
        "test_data=pd.read_csv(filename)"
      ]
    },
    {
      "cell_type": "markdown",
      "metadata": {
        "id": "m4Xv8EhBZrLP"
      },
      "source": [
        "# Cutoff Labeling"
      ]
    },
    {
      "cell_type": "code",
      "execution_count": null,
      "metadata": {
        "id": "RxcUrtfbZrLP"
      },
      "outputs": [],
      "source": [
        "def cutoff(cutoff):\n",
        "  \n",
        "  label_encoder = LabelEncoder()\n",
        "\n",
        "  #convert the target variable to 0/1\n",
        "  train_data[\"classification\"] = label_encoder.fit_transform(train_data[\"overall\"].gt(cutoff))"
      ]
    },
    {
      "cell_type": "markdown",
      "metadata": {
        "id": "cD0WptFKZrLQ"
      },
      "source": [
        "# Text Vectorizer & Merge Sparse Matrix"
      ]
    },
    {
      "cell_type": "code",
      "source": [
        "#convert verified boolean to sparse matrix\n",
        "\n",
        "verified_csr_train=csr_matrix(train_data['verified'].values.astype(int))\n",
        "verified_csr_train = verified_csr_train.transpose()\n",
        "\n",
        "verified_csr_test=csr_matrix(test_data['verified'].values.astype(int))\n",
        "verified_csr_test = verified_csr_test.transpose()"
      ],
      "metadata": {
        "id": "2IGLmYGGuGs3"
      },
      "execution_count": null,
      "outputs": []
    },
    {
      "cell_type": "code",
      "execution_count": null,
      "metadata": {
        "id": "_MaBT5hzZrLR"
      },
      "outputs": [],
      "source": [
        "type(train_data[\"reviewText\"])\n",
        "\n",
        "vectorizer = TfidfVectorizer()\n",
        "\n",
        "# vectorizer to a sparse matrix\n",
        "x_train_sprs_matrix_reviewText = vectorizer.fit_transform(train_data[\"reviewText\"])\n",
        "\n",
        "#print(vectorizer.vocabulary_)\n",
        "\n",
        "tfidf1_test=TfidfVectorizer(vocabulary=vectorizer.vocabulary_)\n",
        "\n",
        "x_test_sprs_matrix_reviewText = tfidf1_test.fit_transform(test_data[\"reviewText\"])"
      ]
    },
    {
      "cell_type": "code",
      "source": [
        "cvect = TfidfVectorizer()\n",
        "no_NaN_summary_train = train_data[\"summary\"].fillna(\" \")\n",
        "x_train_sprs_matrix_summary = cvect.fit_transform(no_NaN_summary_train)\n",
        "\n",
        "no_NaN_summary_test = test_data[\"summary\"].fillna(\" \")\n",
        "\n",
        "tfidf1_test_sum=TfidfVectorizer(vocabulary=cvect.vocabulary_)\n",
        "x_test_sprs_matrix_summary = tfidf1_test_sum.fit_transform(no_NaN_summary_test)"
      ],
      "metadata": {
        "id": "w58pUrjTMl3K"
      },
      "execution_count": null,
      "outputs": []
    },
    {
      "cell_type": "code",
      "source": [
        "# merge CSR matrix\n",
        "x_train_merged = hstack([x_train_sprs_matrix_reviewText, x_train_sprs_matrix_summary])\n",
        "x_train_merged_all=hstack([x_train_merged,verified_csr_train])\n",
        "\n",
        "x_test_merged=x_train_merged = hstack([x_test_sprs_matrix_reviewText, x_test_sprs_matrix_summary])\n",
        "x_test_merged_all=hstack([x_test_merged,verified_csr_test])"
      ],
      "metadata": {
        "id": "I2ondWtAKrnM"
      },
      "execution_count": null,
      "outputs": []
    },
    {
      "cell_type": "markdown",
      "metadata": {
        "id": "WZQIzTIZZrLT"
      },
      "source": [
        "## x_train/y_train"
      ]
    },
    {
      "cell_type": "code",
      "execution_count": null,
      "metadata": {
        "id": "Pr6U-CqgZrLU"
      },
      "outputs": [],
      "source": [
        "x_train=x_train_merged_all\n",
        "x_test=x_test_merged_all"
      ]
    },
    {
      "cell_type": "markdown",
      "source": [
        "# For Kaggle"
      ],
      "metadata": {
        "id": "wftSaXvkG8YR"
      }
    },
    {
      "cell_type": "code",
      "source": [
        "test_predicted=[0]*len(test_data)"
      ],
      "metadata": {
        "id": "hl473fhjT6Pm"
      },
      "execution_count": null,
      "outputs": []
    },
    {
      "cell_type": "markdown",
      "source": [
        "# Cutoff 1"
      ],
      "metadata": {
        "id": "89og3ORIw959"
      }
    },
    {
      "cell_type": "code",
      "source": [
        "cutoff(1)\n",
        "y_train=train_data[\"classification\"]"
      ],
      "metadata": {
        "id": "N4IQFjrelmFU"
      },
      "execution_count": null,
      "outputs": []
    },
    {
      "cell_type": "code",
      "source": [
        "# select k best features\n",
        "k = 20802\n",
        "selector = SelectKBest(f_classif, k=k)\n",
        "selector.fit(x_train, y_train)\n",
        "\n",
        "# transform train&test datasets to selected features\n",
        "x_train_selected = selector.transform(x_train)\n",
        "x_test_selected = selector.transform(x_test)"
      ],
      "metadata": {
        "id": "vQYziMDvHaaa"
      },
      "execution_count": null,
      "outputs": []
    },
    {
      "cell_type": "markdown",
      "source": [
        "Logistic Regression"
      ],
      "metadata": {
        "id": "W_FGcCeUHtXa"
      }
    },
    {
      "cell_type": "code",
      "source": [
        "model = LogisticRegression()\n",
        "\n",
        "X_train, X_val, y_train, y_val = train_test_split(x_train_selected, y_train, test_size=0.3, random_state=42)\n",
        "\n",
        "\n",
        "#hyperparameters C:45, max_iter=70\n",
        "\n",
        "param_grid = {'C': [45],\n",
        "              'solver':['saga'], \n",
        "              'max_iter': [70],\n",
        "              }\n",
        "\n",
        "# Initialize GridSearchCV\n",
        "grid_search = GridSearchCV(estimator=model, \n",
        "                           param_grid=param_grid, \n",
        "                           cv=5, \n",
        "                           scoring=make_scorer(accuracy_score))\n",
        "\n",
        "grid_search.fit(X_train, y_train)\n",
        "best_model = grid_search.best_estimator_\n",
        "\n",
        "prediction=best_model.predict(X_val)\n",
        "\n",
        "\n",
        "\n",
        "cm = confusion_matrix(y_val, prediction)\n",
        "print(\"-----Confusion Matrix-----\")\n",
        "print(cm)\n",
        "print(\"\\n\")\n",
        "\n",
        "\n",
        "# calculate roc\n",
        "fpr, tpr, _ = roc_curve(y_val, prediction)\n",
        "roc_auc = auc(fpr, tpr)\n",
        "\n",
        "# plot ROC curve graph\n",
        "plt.plot(fpr, tpr, color='green', lw=2, label='ROC curve (area = %0.3f)' % roc_auc)\n",
        "plt.plot([0, 1], [0, 1], color='red', lw=1, linestyle='dotted')\n",
        "\n",
        "plt.title('Logistic Regression ROC')\n",
        "\n",
        "plt.xlabel('FP Rate')\n",
        "plt.ylabel('TP Rate')\n",
        "\n",
        "plt.xlim([0.0, 1.0])\n",
        "plt.ylim([0.0, 1.2])\n",
        "\n",
        "plt.legend(loc=\"upper right\")\n",
        "plt.show()\n",
        "\n",
        "print(\"\\nAUC: \",roc_auc)\n",
        "\n",
        "f1_macro = f1_score(y_val, prediction, average='macro')\n",
        "print(\"f1 score: \",f1_macro) \n",
        "\n",
        "print(\"Accuracy:\",accuracy_score(y_val,prediction))\n",
        "\n",
        "print(\"Best parameters: \", grid_search.best_params_)"
      ],
      "metadata": {
        "colab": {
          "base_uri": "https://localhost:8080/",
          "height": 699
        },
        "id": "bjz3CoVXHnwH",
        "outputId": "61614331-4226-4799-dd4b-29bdacf9dc95"
      },
      "execution_count": null,
      "outputs": [
        {
          "output_type": "stream",
          "name": "stderr",
          "text": [
            "/usr/local/lib/python3.8/dist-packages/sklearn/linear_model/_sag.py:350: ConvergenceWarning: The max_iter was reached which means the coef_ did not converge\n",
            "  warnings.warn(\n",
            "/usr/local/lib/python3.8/dist-packages/sklearn/linear_model/_sag.py:350: ConvergenceWarning: The max_iter was reached which means the coef_ did not converge\n",
            "  warnings.warn(\n",
            "/usr/local/lib/python3.8/dist-packages/sklearn/linear_model/_sag.py:350: ConvergenceWarning: The max_iter was reached which means the coef_ did not converge\n",
            "  warnings.warn(\n",
            "/usr/local/lib/python3.8/dist-packages/sklearn/linear_model/_sag.py:350: ConvergenceWarning: The max_iter was reached which means the coef_ did not converge\n",
            "  warnings.warn(\n",
            "/usr/local/lib/python3.8/dist-packages/sklearn/linear_model/_sag.py:350: ConvergenceWarning: The max_iter was reached which means the coef_ did not converge\n",
            "  warnings.warn(\n"
          ]
        },
        {
          "output_type": "stream",
          "name": "stdout",
          "text": [
            "-----Confusion Matrix-----\n",
            "[[1110  715]\n",
            " [ 337 6595]]\n",
            "\n",
            "\n"
          ]
        },
        {
          "output_type": "stream",
          "name": "stderr",
          "text": [
            "/usr/local/lib/python3.8/dist-packages/sklearn/linear_model/_sag.py:350: ConvergenceWarning: The max_iter was reached which means the coef_ did not converge\n",
            "  warnings.warn(\n"
          ]
        },
        {
          "output_type": "display_data",
          "data": {
            "text/plain": [
              "<Figure size 432x288 with 1 Axes>"
            ],
            "image/png": "[encoded data removed]"
          },
          "metadata": {
            "needs_background": "light"
          }
        },
        {
          "output_type": "stream",
          "name": "stdout",
          "text": [
            "\n",
            "AUC:  0.7798020298951063\n",
            "f1 score:  0.8023090387637516\n",
            "Accuracy: 0.8798675345437935\n",
            "Best parameters:  {'C': 45, 'max_iter': 70, 'solver': 'saga'}\n"
          ]
        }
      ]
    },
    {
      "cell_type": "markdown",
      "source": [
        "DecisionTree"
      ],
      "metadata": {
        "id": "1I7Yfo_HNI0j"
      }
    },
    {
      "cell_type": "code",
      "execution_count": null,
      "metadata": {
        "id": "bpmYq1S5ZrLW",
        "colab": {
          "base_uri": "https://localhost:8080/",
          "height": 479
        },
        "outputId": "45ad119e-297a-4637-f113-9f8bd25fbce1"
      },
      "outputs": [
        {
          "output_type": "stream",
          "name": "stdout",
          "text": [
            "-----Confusion Matrix-----\n",
            "[[ 362 1463]\n",
            " [  40 6892]]\n",
            "\n",
            "\n"
          ]
        },
        {
          "output_type": "display_data",
          "data": {
            "text/plain": [
              "<Figure size 432x288 with 1 Axes>"
            ],
            "image/png": "[encoded data removed]"
          },
          "metadata": {
            "needs_background": "light"
          }
        },
        {
          "output_type": "stream",
          "name": "stdout",
          "text": [
            "\n",
            "AUC:  0.5962929119667376\n",
            "f1 score:  0.6133910998920843\n",
            "Accuracy: 0.828365878725591\n",
            "Best parameters:  {'criterion': 'gini', 'max_depth': 3, 'min_samples_split': 3}\n"
          ]
        }
      ],
      "source": [
        "model = DecisionTreeClassifier()\n",
        "\n",
        "# Split the training set into training and validation sets\n",
        "X_train, X_val, y_train, y_val = train_test_split(x_train_selected, y_train, test_size=0.3, random_state=42)\n",
        "\n",
        "#hyperparameters\n",
        "param_grid= {'criterion': ['gini'],\n",
        "          'max_depth': [3],\n",
        "          'min_samples_split': [3]\n",
        "          }\n",
        "\n",
        "grid_search = GridSearchCV(estimator=model,\n",
        "                       param_grid=param_grid,\n",
        "                       cv=5,\n",
        "                       scoring='accuracy',\n",
        "                       n_jobs=-1)\n",
        "\n",
        "grid_search.fit(X_train, y_train)\n",
        "\n",
        "best_model = grid_search.best_estimator_\n",
        "\n",
        "prediction=best_model.predict(X_val)\n",
        "\n",
        "\n",
        "cm = confusion_matrix(y_val, prediction)\n",
        "print(\"-----Confusion Matrix-----\")\n",
        "print(cm)\n",
        "print(\"\\n\")\n",
        "\n",
        "\n",
        "# calculate roc\n",
        "fpr, tpr, _ = roc_curve(y_val, prediction)\n",
        "roc_auc = auc(fpr, tpr)\n",
        "\n",
        "# plot ROC curve graph\n",
        "plt.plot(fpr, tpr, color='green', lw=2, label='ROC curve (area = %0.3f)' % roc_auc)\n",
        "plt.plot([0, 1], [0, 1], color='red', lw=1, linestyle='dotted')\n",
        "\n",
        "plt.title('Decision Tree ROC')\n",
        "\n",
        "plt.xlabel('FP Rate')\n",
        "plt.ylabel('TP Rate')\n",
        "\n",
        "plt.xlim([0.0, 1.0])\n",
        "plt.ylim([0.0, 1.2])\n",
        "\n",
        "plt.legend(loc=\"upper right\")\n",
        "plt.show()\n",
        "\n",
        "print(\"\\nAUC: \",roc_auc)\n",
        "\n",
        "f1_macro = f1_score(y_val, prediction, average='macro')\n",
        "print(\"f1 score: \",f1_macro) \n",
        "\n",
        "print(\"Accuracy:\",accuracy_score(y_val,prediction))\n",
        "\n",
        "print(\"Best parameters: \", grid_search.best_params_)"
      ]
    },
    {
      "cell_type": "markdown",
      "source": [
        "RandomForest"
      ],
      "metadata": {
        "id": "Rag0Ayw4p93B"
      }
    },
    {
      "cell_type": "code",
      "source": [
        "rfc = RandomForestClassifier()\n",
        "\n",
        "X_train, X_val, y_train, y_val = train_test_split(x_train_selected, y_train, test_size=0.3, random_state=42)\n",
        "\n",
        "param_grid = {\n",
        "    'n_estimators': [90],\n",
        "    'max_depth': [1300],\n",
        "    'min_samples_split': [20],\n",
        "    'min_samples_leaf': [2]\n",
        "}\n",
        "\n",
        "# Grid Search\n",
        "grid_search = GridSearchCV(estimator=rfc, param_grid=param_grid, cv=5, n_jobs=-1)\n",
        "\n",
        "grid_search.fit(X_train, y_train)\n",
        "\n",
        "best_model=grid_search.best_estimator_\n",
        "\n",
        "prediction = best_model.predict(X_val)\n",
        "\n",
        "\n",
        "cm = confusion_matrix(y_val, prediction)\n",
        "print(\"-----Confusion Matrix-----\")\n",
        "print(cm)\n",
        "print(\"\\n\")\n",
        "\n",
        "\n",
        "# calculate roc\n",
        "fpr, tpr, _ = roc_curve(y_val, prediction)\n",
        "roc_auc = auc(fpr, tpr)\n",
        "\n",
        "# plot ROC curve graph\n",
        "plt.plot(fpr, tpr, color='green', lw=2, label='ROC curve (area = %0.3f)' % roc_auc)\n",
        "plt.plot([0, 1], [0, 1], color='red', lw=1, linestyle='dotted')\n",
        "plt.xlim([0.0, 1.0])\n",
        "plt.ylim([0.0, 1.2])\n",
        "plt.xlabel('FP Rate')\n",
        "plt.ylabel('TP Rate')\n",
        "plt.title('Random Forest ROC')\n",
        "plt.legend(loc=\"upper right\")\n",
        "plt.show()\n",
        "\n",
        "print(\"\\nAUC: \",roc_auc)\n",
        "\n",
        "f1_macro = f1_score(y_val, prediction, average='macro')\n",
        "print(\"f1 score: \",f1_macro) \n",
        "\n",
        "print(\"Accuracy:\",accuracy_score(y_val,prediction))\n",
        "\n",
        "print(\"Best parameters: \", grid_search.best_params_)"
      ],
      "metadata": {
        "colab": {
          "base_uri": "https://localhost:8080/",
          "height": 479
        },
        "id": "x2wWFKpcO3Oe",
        "outputId": "a92efc57-1b18-4108-a879-951bdd0e6aed"
      },
      "execution_count": null,
      "outputs": [
        {
          "output_type": "stream",
          "name": "stdout",
          "text": [
            "-----Confusion Matrix-----\n",
            "[[ 439 1386]\n",
            " [  23 6909]]\n",
            "\n",
            "\n"
          ]
        },
        {
          "output_type": "display_data",
          "data": {
            "text/plain": [
              "<Figure size 432x288 with 1 Axes>"
            ],
            "image/png": "[encoded data removed]"
          },
          "metadata": {
            "needs_background": "light"
          }
        },
        {
          "output_type": "stream",
          "name": "stdout",
          "text": [
            "\n",
            "AUC:  0.6186149997233399\n",
            "f1 score:  0.645688025283834\n",
            "Accuracy: 0.8391001484526665\n",
            "Best parameters:  {'max_depth': 1300, 'min_samples_leaf': 2, 'min_samples_split': 20, 'n_estimators': 90}\n"
          ]
        }
      ]
    },
    {
      "cell_type": "code",
      "source": [
        "test_prediction=best_model.predict(x_test_selected)\n",
        "\n",
        "#for kaggle\n",
        "\n",
        "test_ids=test_data.index\n",
        "test_submission=pd.DataFrame({'id':test_ids, 'predicted':test_prediction})\n",
        "test_submission.to_csv(\"test_cutoff1_1.csv\",index=False)"
      ],
      "metadata": {
        "id": "50KK77_ty6tg"
      },
      "execution_count": null,
      "outputs": []
    },
    {
      "cell_type": "markdown",
      "source": [
        "# Cutoff 2"
      ],
      "metadata": {
        "id": "l6317rrpTozE"
      }
    },
    {
      "cell_type": "code",
      "source": [
        "cutoff(2)\n",
        "y_train=train_data[\"classification\"]"
      ],
      "metadata": {
        "id": "dM5yMje9p_qC"
      },
      "execution_count": null,
      "outputs": []
    },
    {
      "cell_type": "code",
      "source": [
        "# select k best features 8000\n",
        "k = 8000\n",
        "selector = SelectKBest(f_classif, k=k)\n",
        "selector.fit(x_train, y_train)\n",
        "\n",
        "# transform train and test datasets with selected features\n",
        "x_train_selected = selector.transform(x_train)\n",
        "x_test_selected = selector.transform(x_test)"
      ],
      "metadata": {
        "id": "FDVs8DyIT0jl"
      },
      "execution_count": null,
      "outputs": []
    },
    {
      "cell_type": "markdown",
      "source": [
        "LogisticRegression"
      ],
      "metadata": {
        "id": "iRfM1QIdUFAx"
      }
    },
    {
      "cell_type": "code",
      "source": [
        "model = LogisticRegression()\n",
        "\n",
        "# Split the training set into training and validation sets\n",
        "X_train, X_val, y_train, y_val = train_test_split(x_train_selected, y_train, test_size=0.3, random_state=42)\n",
        "\n",
        "\n",
        "#hyperparameters\n",
        "param_grid = {'C': [45],\n",
        "              'solver':['saga'], \n",
        "              'max_iter': [63],\n",
        "              }\n",
        "\n",
        "\n",
        "# Initialize GridSearchCV\n",
        "grid_search = GridSearchCV(estimator=model, \n",
        "                           param_grid=param_grid, \n",
        "                           cv=5, \n",
        "                           scoring=make_scorer(accuracy_score))\n",
        "\n",
        "grid_search.fit(X_train, y_train)\n",
        "best_model = grid_search.best_estimator_\n",
        "\n",
        "prediction=best_model.predict(X_val)\n",
        "\n",
        "\n",
        "\n",
        "cm = confusion_matrix(y_val, prediction)\n",
        "print(\"-----Confusion Matrix-----\")\n",
        "print(cm)\n",
        "print(\"\\n\")\n",
        "\n",
        "\n",
        "# calculate roc\n",
        "fpr, tpr, _ = roc_curve(y_val, prediction)\n",
        "roc_auc = auc(fpr, tpr)\n",
        "\n",
        "# plot ROC curve graph\n",
        "plt.plot(fpr, tpr, color='green', lw=2, label='ROC curve (area = %0.2f)' % roc_auc)\n",
        "plt.plot([0, 1], [0, 1], color='red', lw=1, linestyle='dotted')\n",
        "plt.xlim([0.0, 1.0])\n",
        "plt.ylim([0.0, 1.2])\n",
        "plt.xlabel('FP Rate')\n",
        "plt.ylabel('TP Rate')\n",
        "plt.title('Logistic Regression ROC')\n",
        "plt.legend(loc=\"upper right\")\n",
        "plt.show()\n",
        "\n",
        "print(\"\\nAUC: \",roc_auc)\n",
        "\n",
        "f1_macro = f1_score(y_val, prediction, average='macro')\n",
        "print(\"f1 score: \",f1_macro) \n",
        "\n",
        "print(\"Accuracy:\",accuracy_score(y_val,prediction))\n",
        "print(\"Best parameters: \", grid_search.best_params_)"
      ],
      "metadata": {
        "colab": {
          "base_uri": "https://localhost:8080/",
          "height": 699
        },
        "id": "1ArTlgt0T2On",
        "outputId": "9de147f2-94df-4548-ece1-b428fcb52961"
      },
      "execution_count": null,
      "outputs": [
        {
          "output_type": "stream",
          "name": "stderr",
          "text": [
            "/usr/local/lib/python3.8/dist-packages/sklearn/linear_model/_sag.py:350: ConvergenceWarning: The max_iter was reached which means the coef_ did not converge\n",
            "  warnings.warn(\n",
            "/usr/local/lib/python3.8/dist-packages/sklearn/linear_model/_sag.py:350: ConvergenceWarning: The max_iter was reached which means the coef_ did not converge\n",
            "  warnings.warn(\n",
            "/usr/local/lib/python3.8/dist-packages/sklearn/linear_model/_sag.py:350: ConvergenceWarning: The max_iter was reached which means the coef_ did not converge\n",
            "  warnings.warn(\n",
            "/usr/local/lib/python3.8/dist-packages/sklearn/linear_model/_sag.py:350: ConvergenceWarning: The max_iter was reached which means the coef_ did not converge\n",
            "  warnings.warn(\n",
            "/usr/local/lib/python3.8/dist-packages/sklearn/linear_model/_sag.py:350: ConvergenceWarning: The max_iter was reached which means the coef_ did not converge\n",
            "  warnings.warn(\n"
          ]
        },
        {
          "output_type": "stream",
          "name": "stdout",
          "text": [
            "-----Confusion Matrix-----\n",
            "[[2917  681]\n",
            " [ 587 4572]]\n",
            "\n",
            "\n"
          ]
        },
        {
          "output_type": "stream",
          "name": "stderr",
          "text": [
            "/usr/local/lib/python3.8/dist-packages/sklearn/linear_model/_sag.py:350: ConvergenceWarning: The max_iter was reached which means the coef_ did not converge\n",
            "  warnings.warn(\n"
          ]
        },
        {
          "output_type": "display_data",
          "data": {
            "text/plain": [
              "<Figure size 432x288 with 1 Axes>"
            ],
            "image/png": "[encoded data removed]"
          },
          "metadata": {
            "needs_background": "light"
          }
        },
        {
          "output_type": "stream",
          "name": "stdout",
          "text": [
            "\n",
            "AUC:  0.8484732208380503\n",
            "f1 score:  0.8498380927147617\n",
            "Accuracy: 0.8552015530432797\n",
            "Best parameters:  {'C': 45, 'max_iter': 63, 'solver': 'saga'}\n"
          ]
        }
      ]
    },
    {
      "cell_type": "markdown",
      "source": [
        "DecisionTree"
      ],
      "metadata": {
        "id": "aoJoCe2NUPRx"
      }
    },
    {
      "cell_type": "code",
      "source": [
        "model = DecisionTreeClassifier()\n",
        "\n",
        "# Split the training set into training and validation sets\n",
        "X_train, X_val, y_train, y_val = train_test_split(x_train_selected, y_train, test_size=0.3, random_state=42)\n",
        "\n",
        "#hyperparameters\n",
        "param_grid= {'criterion': ['gini'],\n",
        "          'max_depth': [32],\n",
        "          'min_samples_split': [5]\n",
        "          }\n",
        "\n",
        "grid_search = GridSearchCV(estimator=model,\n",
        "                       param_grid=param_grid,\n",
        "                       cv=5,\n",
        "                       scoring='accuracy',\n",
        "                       n_jobs=-1)\n",
        "\n",
        "grid_search.fit(X_train, y_train)\n",
        "\n",
        "best_model = grid_search.best_estimator_\n",
        "\n",
        "prediction=best_model.predict(X_val)\n",
        "\n",
        "\n",
        "cm = confusion_matrix(y_val, prediction)\n",
        "print(\"-----Confusion Matrix-----\")\n",
        "print(cm)\n",
        "print(\"\\n\")\n",
        "\n",
        "\n",
        "# calculate roc\n",
        "fpr, tpr, _ = roc_curve(y_val, prediction)\n",
        "roc_auc = auc(fpr, tpr)\n",
        "\n",
        "# plot ROC curve graph\n",
        "plt.plot(fpr, tpr, color='green', lw=2, label='ROC curve (area = %0.3f)' % roc_auc)\n",
        "plt.plot([0, 1], [0, 1], color='red', lw=1, linestyle='dotted')\n",
        "plt.xlim([0.0, 1.0])\n",
        "plt.ylim([0.0, 1.2])\n",
        "plt.xlabel('FP Rate')\n",
        "plt.ylabel('TP Rate')\n",
        "plt.title('Decision Tree ROC')\n",
        "plt.legend(loc=\"upper right\")\n",
        "plt.show()\n",
        "\n",
        "print(\"\\nAUC: \",roc_auc)\n",
        "\n",
        "f1_macro = f1_score(y_val, prediction, average='macro')\n",
        "print(\"f1 score: \",f1_macro) \n",
        "\n",
        "print(\"Accuracy:\",accuracy_score(y_val,prediction))\n",
        "\n",
        "print(\"Best parameters: \", grid_search.best_params_)"
      ],
      "metadata": {
        "colab": {
          "base_uri": "https://localhost:8080/",
          "height": 479
        },
        "id": "LDJ7ZIhKUXgw",
        "outputId": "a4a12927-bd86-4386-b70f-594fea841023"
      },
      "execution_count": null,
      "outputs": [
        {
          "output_type": "stream",
          "name": "stdout",
          "text": [
            "-----Confusion Matrix-----\n",
            "[[2256 1342]\n",
            " [1014 4145]]\n",
            "\n",
            "\n"
          ]
        },
        {
          "output_type": "display_data",
          "data": {
            "text/plain": [
              "<Figure size 432x288 with 1 Axes>"
            ],
            "image/png": "[encoded data removed]"
          },
          "metadata": {
            "needs_background": "light"
          }
        },
        {
          "output_type": "stream",
          "name": "stdout",
          "text": [
            "\n",
            "AUC:  0.7152326447000934\n",
            "f1 score:  0.7178280187811468\n",
            "Accuracy: 0.7309580906703209\n",
            "Best parameters:  {'criterion': 'gini', 'max_depth': 32, 'min_samples_split': 5}\n"
          ]
        }
      ]
    },
    {
      "cell_type": "markdown",
      "source": [
        "RandomForest"
      ],
      "metadata": {
        "id": "nsp7opkMUQrC"
      }
    },
    {
      "cell_type": "code",
      "source": [
        "rfc = RandomForestClassifier()\n",
        "\n",
        "X_train, X_val, y_train, y_val = train_test_split(x_train_selected, y_train, test_size=0.3, random_state=42)\n",
        "\n",
        "param_grid = {\n",
        "    'n_estimators': [500],\n",
        "    'max_depth': [150],\n",
        "    'min_samples_split': [10],\n",
        "    'min_samples_leaf': [1]\n",
        "}\n",
        "\n",
        "# Grid Search\n",
        "grid_search = GridSearchCV(estimator=rfc, param_grid=param_grid, cv=5, n_jobs=-1)\n",
        "\n",
        "grid_search.fit(X_train, y_train)\n",
        "\n",
        "best_model=grid_search.best_estimator_\n",
        "\n",
        "prediction = best_model.predict(X_val)\n",
        "\n",
        "\n",
        "cm = confusion_matrix(y_val, prediction)\n",
        "print(\"-----Confusion Matrix-----\")\n",
        "print(cm)\n",
        "print(\"\\n\")\n",
        "\n",
        "\n",
        "# calculate roc\n",
        "fpr, tpr, _ = roc_curve(y_val, prediction)\n",
        "roc_auc = auc(fpr, tpr)\n",
        "\n",
        "# plot ROC curve graph\n",
        "plt.plot(fpr, tpr, color='green', lw=2, label='ROC curve (area = %0.3f)' % roc_auc)\n",
        "plt.plot([0, 1], [0, 1], color='red', lw=1, linestyle='dotted')\n",
        "plt.xlim([0.0, 1.0])\n",
        "plt.ylim([0.0, 1.2])\n",
        "plt.xlabel('FP Rate')\n",
        "plt.ylabel('TP Rate')\n",
        "plt.title('Random Forest ROC')\n",
        "plt.legend(loc=\"upper right\")\n",
        "plt.show()\n",
        "\n",
        "print(\"\\nAUC: \",roc_auc)\n",
        "\n",
        "f1_macro = f1_score(y_val, prediction, average='macro')\n",
        "print(\"f1 score: \",f1_macro) \n",
        "\n",
        "print(\"Accuracy:\",accuracy_score(y_val,prediction))\n",
        "\n",
        "print(\"Best parameters: \", grid_search.best_params_)"
      ],
      "metadata": {
        "colab": {
          "base_uri": "https://localhost:8080/",
          "height": 465
        },
        "id": "HFTnAPWVUp0a",
        "outputId": "2c3fa09b-be57-4a33-a814-8bb84999bed5"
      },
      "execution_count": null,
      "outputs": [
        {
          "output_type": "stream",
          "name": "stdout",
          "text": [
            "-----Confusion Matrix-----\n",
            "[[2481 1117]\n",
            " [ 436 4723]]\n",
            "\n",
            "\n"
          ]
        },
        {
          "output_type": "display_data",
          "data": {
            "text/plain": [
              "<Figure size 432x288 with 1 Axes>"
            ],
            "image/png": "[encoded data removed]"
          },
          "metadata": {
            "needs_background": "light"
          }
        },
        {
          "output_type": "stream",
          "name": "stdout",
          "text": [
            "\n",
            "AUC:  0.8025186237190419\n",
            "f1 score:  0.8102161802611373\n",
            "Accuracy: 0.8226561607856572\n",
            "Best parameters:  {'max_depth': 150, 'min_samples_leaf': 1, 'min_samples_split': 10, 'n_estimators': 500}\n"
          ]
        }
      ]
    },
    {
      "cell_type": "code",
      "source": [
        "test_prediction=best_model.predict(x_test_selected)\n",
        "\n",
        "#for kaggle\n",
        "\n",
        "test_ids=test_data.index\n",
        "test_submission=pd.DataFrame({'id':test_ids, 'predicted':test_prediction})\n",
        "test_submission.to_csv(\"test_cutoff2_2.csv\",index=False)"
      ],
      "metadata": {
        "id": "YoZMeyYmJNmL"
      },
      "execution_count": null,
      "outputs": []
    },
    {
      "cell_type": "markdown",
      "source": [
        "# Cutoff 3"
      ],
      "metadata": {
        "id": "3GnbwOWJUJUA"
      }
    },
    {
      "cell_type": "code",
      "source": [
        "cutoff(3)\n",
        "y_train=train_data[\"classification\"]"
      ],
      "metadata": {
        "id": "kEipG7b9T2tS"
      },
      "execution_count": null,
      "outputs": []
    },
    {
      "cell_type": "code",
      "source": [
        "# select k best features 8500\n",
        "k = 800\n",
        "selector = SelectKBest(f_classif, k=k)\n",
        "selector.fit(x_train, y_train)\n",
        "\n",
        "# transform train and test datasets with selected features\n",
        "x_train_selected = selector.transform(x_train)\n",
        "x_test_selected = selector.transform(x_test)"
      ],
      "metadata": {
        "id": "Yk6_mgmWX_gg"
      },
      "execution_count": null,
      "outputs": []
    },
    {
      "cell_type": "markdown",
      "source": [
        "LogisticRegression"
      ],
      "metadata": {
        "id": "CX5gK34jYGoT"
      }
    },
    {
      "cell_type": "code",
      "source": [
        "model = LogisticRegression()\n",
        "\n",
        "# Split the training set into training and validation sets\n",
        "X_train, X_val, y_train, y_val = train_test_split(x_train_selected, y_train, test_size=0.3, random_state=42)\n",
        "\n",
        "\n",
        "#hyperparameters\n",
        "param_grid = {'C': [64],\n",
        "              'solver':['saga'], \n",
        "              'max_iter': [90],\n",
        "              }\n",
        "\n",
        "\n",
        "# Initialize GridSearchCV\n",
        "grid_search = GridSearchCV(estimator=model, \n",
        "                           param_grid=param_grid, \n",
        "                           cv=5, \n",
        "                           scoring=make_scorer(accuracy_score))\n",
        "\n",
        "grid_search.fit(X_train, y_train)\n",
        "best_model = grid_search.best_estimator_\n",
        "\n",
        "prediction=best_model.predict(X_val)\n",
        "\n",
        "\n",
        "\n",
        "cm = confusion_matrix(y_val, prediction)\n",
        "print(\"-----Confusion Matrix-----\")\n",
        "print(cm)\n",
        "print(\"\\n\")\n",
        "\n",
        "\n",
        "# calculate roc\n",
        "fpr, tpr, _ = roc_curve(y_val, prediction)\n",
        "roc_auc = auc(fpr, tpr)\n",
        "\n",
        "# plot ROC curve graph\n",
        "plt.plot(fpr, tpr, color='green', lw=2, label='ROC curve (area = %0.2f)' % roc_auc)\n",
        "plt.plot([0, 1], [0, 1], color='red', lw=1, linestyle='dotted')\n",
        "plt.xlim([0.0, 1.0])\n",
        "plt.ylim([0.0, 1.2])\n",
        "plt.xlabel('FP Rate')\n",
        "plt.ylabel('TP Rate')\n",
        "plt.title('Logistic Regression ROC')\n",
        "plt.legend(loc=\"upper right\")\n",
        "plt.show()\n",
        "\n",
        "print(\"\\nAUC: \",roc_auc)\n",
        "\n",
        "f1_macro = f1_score(y_val, prediction, average='macro')\n",
        "print(\"f1 score: \",f1_macro) \n",
        "\n",
        "print(\"Accuracy:\",accuracy_score(y_val,prediction))\n",
        "print(\"Best parameters: \", grid_search.best_params_)"
      ],
      "metadata": {
        "colab": {
          "base_uri": "https://localhost:8080/",
          "height": 699
        },
        "id": "NEV5H0grYhZh",
        "outputId": "4d7be0f4-735f-4edd-d290-1fe86b692459"
      },
      "execution_count": null,
      "outputs": [
        {
          "output_type": "stream",
          "name": "stderr",
          "text": [
            "/usr/local/lib/python3.8/dist-packages/sklearn/linear_model/_sag.py:350: ConvergenceWarning: The max_iter was reached which means the coef_ did not converge\n",
            "  warnings.warn(\n",
            "/usr/local/lib/python3.8/dist-packages/sklearn/linear_model/_sag.py:350: ConvergenceWarning: The max_iter was reached which means the coef_ did not converge\n",
            "  warnings.warn(\n",
            "/usr/local/lib/python3.8/dist-packages/sklearn/linear_model/_sag.py:350: ConvergenceWarning: The max_iter was reached which means the coef_ did not converge\n",
            "  warnings.warn(\n",
            "/usr/local/lib/python3.8/dist-packages/sklearn/linear_model/_sag.py:350: ConvergenceWarning: The max_iter was reached which means the coef_ did not converge\n",
            "  warnings.warn(\n",
            "/usr/local/lib/python3.8/dist-packages/sklearn/linear_model/_sag.py:350: ConvergenceWarning: The max_iter was reached which means the coef_ did not converge\n",
            "  warnings.warn(\n"
          ]
        },
        {
          "output_type": "stream",
          "name": "stdout",
          "text": [
            "-----Confusion Matrix-----\n",
            "[[4859  530]\n",
            " [ 563 2805]]\n",
            "\n",
            "\n"
          ]
        },
        {
          "output_type": "stream",
          "name": "stderr",
          "text": [
            "/usr/local/lib/python3.8/dist-packages/sklearn/linear_model/_sag.py:350: ConvergenceWarning: The max_iter was reached which means the coef_ did not converge\n",
            "  warnings.warn(\n"
          ]
        },
        {
          "output_type": "display_data",
          "data": {
            "text/plain": [
              "<Figure size 432x288 with 1 Axes>"
            ],
            "image/png": "[encoded data removed]"
          },
          "metadata": {
            "needs_background": "light"
          }
        },
        {
          "output_type": "stream",
          "name": "stdout",
          "text": [
            "\n",
            "AUC:  0.8672449960749641\n",
            "f1 score:  0.8679189767170272\n",
            "Accuracy: 0.8751855658330479\n",
            "Best parameters:  {'C': 64, 'max_iter': 90, 'solver': 'saga'}\n"
          ]
        }
      ]
    },
    {
      "cell_type": "markdown",
      "source": [
        "DecisionTree"
      ],
      "metadata": {
        "id": "4ZIeqPQhYQVH"
      }
    },
    {
      "cell_type": "code",
      "source": [
        "model = DecisionTreeClassifier()\n",
        "\n",
        "# Split the training set into training and validation sets\n",
        "X_train, X_val, y_train, y_val = train_test_split(x_train_selected, y_train, test_size=0.3, random_state=42)\n",
        "\n",
        "#hyperparameters\n",
        "param_grid= {'criterion': ['gini'],\n",
        "          'max_depth': [23],\n",
        "          'min_samples_split': [2]\n",
        "          }\n",
        "\n",
        "grid_search = GridSearchCV(estimator=model,\n",
        "                       param_grid=param_grid,\n",
        "                       cv=5,\n",
        "                       scoring='accuracy',\n",
        "                       n_jobs=-1)\n",
        "\n",
        "grid_search.fit(X_train, y_train)\n",
        "\n",
        "best_model = grid_search.best_estimator_\n",
        "\n",
        "prediction=best_model.predict(X_val)\n",
        "\n",
        "\n",
        "cm = confusion_matrix(y_val, prediction)\n",
        "print(\"-----Confusion Matrix-----\")\n",
        "print(cm)\n",
        "print(\"\\n\")\n",
        "\n",
        "\n",
        "# calculate roc\n",
        "fpr, tpr, _ = roc_curve(y_val, prediction)\n",
        "roc_auc = auc(fpr, tpr)\n",
        "\n",
        "# plot ROC curve graph\n",
        "plt.plot(fpr, tpr, color='green', lw=2, label='ROC curve (area = %0.3f)' % roc_auc)\n",
        "plt.plot([0, 1], [0, 1], color='red', lw=1, linestyle='dotted')\n",
        "plt.xlim([0.0, 1.0])\n",
        "plt.ylim([0.0, 1.2])\n",
        "plt.xlabel('FP Rate')\n",
        "plt.ylabel('TP Rate')\n",
        "plt.title('Decision Tree ROC')\n",
        "plt.legend(loc=\"upper right\")\n",
        "plt.show()\n",
        "\n",
        "print(\"\\nAUC: \",roc_auc)\n",
        "\n",
        "f1_macro = f1_score(y_val, prediction, average='macro')\n",
        "print(\"f1 score: \",f1_macro) \n",
        "\n",
        "print(\"Accuracy:\",accuracy_score(y_val,prediction))\n",
        "\n",
        "print(\"Best parameters: \", grid_search.best_params_)"
      ],
      "metadata": {
        "colab": {
          "base_uri": "https://localhost:8080/",
          "height": 479
        },
        "id": "hDXV2xVLYvTI",
        "outputId": "73b44dd8-7868-49f7-d8f2-c69ed154656e"
      },
      "execution_count": null,
      "outputs": [
        {
          "output_type": "stream",
          "name": "stdout",
          "text": [
            "-----Confusion Matrix-----\n",
            "[[4702  687]\n",
            " [1255 2113]]\n",
            "\n",
            "\n"
          ]
        },
        {
          "output_type": "display_data",
          "data": {
            "text/plain": [
              "<Figure size 432x288 with 1 Axes>"
            ],
            "image/png": "[encoded data removed]"
          },
          "metadata": {
            "needs_background": "light"
          }
        },
        {
          "output_type": "stream",
          "name": "stdout",
          "text": [
            "\n",
            "AUC:  0.7499466946612898\n",
            "f1 score:  0.7569937570346532\n",
            "Accuracy: 0.7782345552129725\n",
            "Best parameters:  {'criterion': 'gini', 'max_depth': 23, 'min_samples_split': 2}\n"
          ]
        }
      ]
    },
    {
      "cell_type": "markdown",
      "source": [
        "RandomForest"
      ],
      "metadata": {
        "id": "GWxA-8vJYGy6"
      }
    },
    {
      "cell_type": "code",
      "source": [
        "rfc = RandomForestClassifier()\n",
        "\n",
        "X_train, X_val, y_train, y_val = train_test_split(x_train_selected, y_train, test_size=0.3, random_state=42)\n",
        "\n",
        "param_grid = {\n",
        "    'n_estimators': [100],\n",
        "    'max_depth': [15],\n",
        "    'min_samples_split': [2],\n",
        "    'min_samples_leaf': [1]\n",
        "}\n",
        "\n",
        "# Grid Search\n",
        "grid_search = GridSearchCV(estimator=rfc, param_grid=param_grid, cv=5, n_jobs=-1)\n",
        "\n",
        "grid_search.fit(X_train, y_train)\n",
        "\n",
        "best_model=grid_search.best_estimator_\n",
        "\n",
        "prediction = best_model.predict(X_val)\n",
        "\n",
        "\n",
        "cm = confusion_matrix(y_val, prediction)\n",
        "print(\"-----Confusion Matrix-----\")\n",
        "print(cm)\n",
        "print(\"\\n\")\n",
        "\n",
        "\n",
        "# calculate roc\n",
        "fpr, tpr, _ = roc_curve(y_val, prediction)\n",
        "roc_auc = auc(fpr, tpr)\n",
        "\n",
        "# plot ROC curve graph\n",
        "plt.plot(fpr, tpr, color='green', lw=2, label='ROC curve (area = %0.3f)' % roc_auc)\n",
        "plt.plot([0, 1], [0, 1], color='red', lw=1, linestyle='dotted')\n",
        "plt.xlim([0.0, 1.0])\n",
        "plt.ylim([0.0, 1.2])\n",
        "plt.xlabel('FP Rate')\n",
        "plt.ylabel('TP Rate')\n",
        "plt.title('Random Forest ROC')\n",
        "plt.legend(loc=\"upper right\")\n",
        "plt.show()\n",
        "\n",
        "print(\"\\nAUC: \",roc_auc)\n",
        "\n",
        "f1_macro = f1_score(y_val, prediction, average='macro')\n",
        "print(\"f1 score: \",f1_macro) \n",
        "\n",
        "print(\"Accuracy:\",accuracy_score(y_val,prediction))\n",
        "\n",
        "print(\"Best parameters: \", grid_search.best_params_)"
      ],
      "metadata": {
        "id": "AuSnMWOkWBk6",
        "colab": {
          "base_uri": "https://localhost:8080/",
          "height": 465
        },
        "outputId": "04ebc286-af47-49e5-9767-44c77450c381"
      },
      "execution_count": null,
      "outputs": [
        {
          "output_type": "stream",
          "name": "stdout",
          "text": [
            "-----Confusion Matrix-----\n",
            "[[5275  114]\n",
            " [1805 1563]]\n",
            "\n",
            "\n"
          ]
        },
        {
          "output_type": "display_data",
          "data": {
            "text/plain": [
              "<Figure size 432x288 with 1 Axes>"
            ],
            "image/png": "[encoded data removed]"
          },
          "metadata": {
            "needs_background": "light"
          }
        },
        {
          "output_type": "stream",
          "name": "stdout",
          "text": [
            "\n",
            "AUC:  0.721459715599076\n",
            "f1 score:  0.7328608566688399\n",
            "Accuracy: 0.780861025465342\n",
            "Best parameters:  {'max_depth': 15, 'min_samples_leaf': 1, 'min_samples_split': 2, 'n_estimators': 100}\n"
          ]
        }
      ]
    },
    {
      "cell_type": "code",
      "source": [
        "test_prediction=best_model.predict(x_test_selected)\n",
        "\n",
        "#for kaggle\n",
        "\n",
        "test_ids=test_data.index\n",
        "test_submission=pd.DataFrame({'id':test_ids, 'predicted':test_prediction})\n",
        "test_submission.to_csv(\"test_cutoff3_2.csv\",index=False)"
      ],
      "metadata": {
        "id": "QTPSnsHEJy3F"
      },
      "execution_count": null,
      "outputs": []
    },
    {
      "cell_type": "markdown",
      "source": [
        "# Cutoff 4"
      ],
      "metadata": {
        "id": "5088ygCvah0i"
      }
    },
    {
      "cell_type": "code",
      "source": [
        "cutoff(4)\n",
        "y_train=train_data[\"classification\"]"
      ],
      "metadata": {
        "id": "8wKyZYnqUerZ"
      },
      "execution_count": null,
      "outputs": []
    },
    {
      "cell_type": "code",
      "source": [
        "# select k best features\n",
        "k = 100\n",
        "selector = SelectKBest(f_classif, k=k)\n",
        "selector.fit(x_train, y_train)\n",
        "\n",
        "# transform train and test datasets with selected features\n",
        "x_train_selected = selector.transform(x_train)\n",
        "x_test_selected = selector.transform(x_test)"
      ],
      "metadata": {
        "id": "SxyKBm_NqXEb"
      },
      "execution_count": null,
      "outputs": []
    },
    {
      "cell_type": "markdown",
      "source": [
        "LogisticRegression"
      ],
      "metadata": {
        "id": "DUkCb5-_biYF"
      }
    },
    {
      "cell_type": "code",
      "source": [
        "model = LogisticRegression()\n",
        "\n",
        "# Split the training set into training and validation sets\n",
        "X_train, X_val, y_train, y_val = train_test_split(x_train_selected, y_train, test_size=0.3, random_state=42)\n",
        "\n",
        "\n",
        "#hyperparameters\n",
        "param_grid = {'C': [19],\n",
        "              'solver':['saga'], \n",
        "              'max_iter': [77],\n",
        "              }\n",
        "\n",
        "\n",
        "# Initialize GridSearchCV\n",
        "grid_search = GridSearchCV(estimator=model, \n",
        "                           param_grid=param_grid, \n",
        "                           cv=5, \n",
        "                           scoring=make_scorer(accuracy_score))\n",
        "\n",
        "grid_search.fit(X_train, y_train)\n",
        "best_model = grid_search.best_estimator_\n",
        "\n",
        "prediction=best_model.predict(X_val)\n",
        "\n",
        "\n",
        "\n",
        "cm = confusion_matrix(y_val, prediction)\n",
        "print(\"-----Confusion Matrix-----\")\n",
        "print(cm)\n",
        "print(\"\\n\")\n",
        "\n",
        "\n",
        "# calculate roc\n",
        "fpr, tpr, _ = roc_curve(y_val, prediction)\n",
        "roc_auc = auc(fpr, tpr)\n",
        "\n",
        "# plot ROC curve graph\n",
        "plt.plot(fpr, tpr, color='green', lw=2, label='ROC curve (area = %0.2f)' % roc_auc)\n",
        "plt.plot([0, 1], [0, 1], color='red', lw=1, linestyle='dotted')\n",
        "plt.xlim([0.0, 1.0])\n",
        "plt.ylim([0.0, 1.2])\n",
        "plt.xlabel('FP Rate')\n",
        "plt.ylabel('TP Rate')\n",
        "plt.title('Logistic Regression ROC')\n",
        "plt.legend(loc=\"upper right\")\n",
        "plt.show()\n",
        "\n",
        "print(\"\\nAUC: \",roc_auc)\n",
        "\n",
        "f1_macro = f1_score(y_val, prediction, average='macro')\n",
        "print(\"f1 score: \",f1_macro) \n",
        "\n",
        "print(\"Accuracy:\",accuracy_score(y_val,prediction))\n",
        "print(\"Best parameters: \", grid_search.best_params_)"
      ],
      "metadata": {
        "colab": {
          "base_uri": "https://localhost:8080/",
          "height": 699
        },
        "id": "MG_eQmpYb1mf",
        "outputId": "f7a6b7a6-f633-475a-cfed-f81f0a311d7f"
      },
      "execution_count": null,
      "outputs": [
        {
          "output_type": "stream",
          "name": "stderr",
          "text": [
            "/usr/local/lib/python3.8/dist-packages/sklearn/linear_model/_sag.py:350: ConvergenceWarning: The max_iter was reached which means the coef_ did not converge\n",
            "  warnings.warn(\n",
            "/usr/local/lib/python3.8/dist-packages/sklearn/linear_model/_sag.py:350: ConvergenceWarning: The max_iter was reached which means the coef_ did not converge\n",
            "  warnings.warn(\n",
            "/usr/local/lib/python3.8/dist-packages/sklearn/linear_model/_sag.py:350: ConvergenceWarning: The max_iter was reached which means the coef_ did not converge\n",
            "  warnings.warn(\n",
            "/usr/local/lib/python3.8/dist-packages/sklearn/linear_model/_sag.py:350: ConvergenceWarning: The max_iter was reached which means the coef_ did not converge\n",
            "  warnings.warn(\n",
            "/usr/local/lib/python3.8/dist-packages/sklearn/linear_model/_sag.py:350: ConvergenceWarning: The max_iter was reached which means the coef_ did not converge\n",
            "  warnings.warn(\n"
          ]
        },
        {
          "output_type": "stream",
          "name": "stdout",
          "text": [
            "-----Confusion Matrix-----\n",
            "[[6838  256]\n",
            " [ 546 1117]]\n",
            "\n",
            "\n"
          ]
        },
        {
          "output_type": "stream",
          "name": "stderr",
          "text": [
            "/usr/local/lib/python3.8/dist-packages/sklearn/linear_model/_sag.py:350: ConvergenceWarning: The max_iter was reached which means the coef_ did not converge\n",
            "  warnings.warn(\n"
          ]
        },
        {
          "output_type": "display_data",
          "data": {
            "text/plain": [
              "<Figure size 432x288 with 1 Axes>"
            ],
            "image/png": "[encoded data removed]"
          },
          "metadata": {
            "needs_background": "light"
          }
        },
        {
          "output_type": "stream",
          "name": "stdout",
          "text": [
            "\n",
            "AUC:  0.817795428487923\n",
            "f1 score:  0.8402211178252188\n",
            "Accuracy: 0.9084161242434624\n",
            "Best parameters:  {'C': 19, 'max_iter': 77, 'solver': 'saga'}\n"
          ]
        }
      ]
    },
    {
      "cell_type": "markdown",
      "source": [
        "DecisionTree"
      ],
      "metadata": {
        "id": "TKRt0MUJbkXu"
      }
    },
    {
      "cell_type": "code",
      "source": [
        "model = DecisionTreeClassifier()\n",
        "\n",
        "# Split the training set into training and validation sets\n",
        "X_train, X_val, y_train, y_val = train_test_split(x_train_selected, y_train, test_size=0.3, random_state=42)\n",
        "\n",
        "#hyperparameters\n",
        "param_grid= {'criterion': ['gini'],\n",
        "          'max_depth': [10],\n",
        "          'min_samples_split': [3]\n",
        "          }\n",
        "\n",
        "grid_search = GridSearchCV(estimator=model,\n",
        "                       param_grid=param_grid,\n",
        "                       cv=5,\n",
        "                       scoring='accuracy',\n",
        "                       n_jobs=-1)\n",
        "\n",
        "grid_search.fit(X_train, y_train)\n",
        "\n",
        "best_model = grid_search.best_estimator_\n",
        "\n",
        "prediction=best_model.predict(X_val)\n",
        "\n",
        "\n",
        "cm = confusion_matrix(y_val, prediction)\n",
        "print(\"-----Confusion Matrix-----\")\n",
        "print(cm)\n",
        "print(\"\\n\")\n",
        "\n",
        "\n",
        "# calculate roc\n",
        "fpr, tpr, _ = roc_curve(y_val, prediction)\n",
        "roc_auc = auc(fpr, tpr)\n",
        "\n",
        "# plot ROC curve graph\n",
        "plt.plot(fpr, tpr, color='green', lw=2, label='ROC curve (area = %0.3f)' % roc_auc)\n",
        "plt.plot([0, 1], [0, 1], color='red', lw=1, linestyle='dotted')\n",
        "plt.xlim([0.0, 1.0])\n",
        "plt.ylim([0.0, 1.2])\n",
        "plt.xlabel('FP Rate')\n",
        "plt.ylabel('TP Rate')\n",
        "plt.title('Decision Tree ROC')\n",
        "plt.legend(loc=\"upper right\")\n",
        "plt.show()\n",
        "\n",
        "print(\"\\nAUC: \",roc_auc)\n",
        "\n",
        "f1_macro = f1_score(y_val, prediction, average='macro')\n",
        "print(\"f1 score: \",f1_macro) \n",
        "\n",
        "print(\"Accuracy:\",accuracy_score(y_val,prediction))\n",
        "\n",
        "print(\"Best parameters: \", grid_search.best_params_)"
      ],
      "metadata": {
        "colab": {
          "base_uri": "https://localhost:8080/",
          "height": 465
        },
        "id": "OaLsvXdrb33r",
        "outputId": "5081ef10-a784-4877-9b9c-1ccd865f79a9"
      },
      "execution_count": null,
      "outputs": [
        {
          "output_type": "stream",
          "name": "stdout",
          "text": [
            "-----Confusion Matrix-----\n",
            "[[6811  283]\n",
            " [ 834  829]]\n",
            "\n",
            "\n"
          ]
        },
        {
          "output_type": "display_data",
          "data": {
            "text/plain": [
              "<Figure size 432x288 with 1 Axes>"
            ],
            "image/png": "[encoded data removed]"
          },
          "metadata": {
            "needs_background": "light"
          }
        },
        {
          "output_type": "stream",
          "name": "stdout",
          "text": [
            "\n",
            "AUC:  0.7293019127561322\n",
            "f1 score:  0.7608460730219331\n",
            "Accuracy: 0.8724449012218797\n",
            "Best parameters:  {'criterion': 'gini', 'max_depth': 10, 'min_samples_split': 3}\n"
          ]
        }
      ]
    },
    {
      "cell_type": "markdown",
      "source": [
        "RandomForest"
      ],
      "metadata": {
        "id": "702inyUFboym"
      }
    },
    {
      "cell_type": "code",
      "source": [
        "rfc = RandomForestClassifier()\n",
        "\n",
        "X_train, X_val, y_train, y_val = train_test_split(x_train_selected, y_train, test_size=0.3, random_state=42)\n",
        "\n",
        "param_grid = {\n",
        "    'n_estimators': [300],\n",
        "    'max_depth': [80],\n",
        "    'min_samples_split': [7],\n",
        "    'min_samples_leaf': [4]\n",
        "}\n",
        "\n",
        "# Grid Search\n",
        "grid_search = GridSearchCV(estimator=rfc, param_grid=param_grid, cv=5, n_jobs=-1)\n",
        "\n",
        "grid_search.fit(X_train, y_train)\n",
        "\n",
        "best_model=grid_search.best_estimator_\n",
        "\n",
        "prediction = best_model.predict(X_val)\n",
        "\n",
        "\n",
        "cm = confusion_matrix(y_val, prediction)\n",
        "print(\"-----Confusion Matrix-----\")\n",
        "print(cm)\n",
        "print(\"\\n\")\n",
        "\n",
        "\n",
        "# calculate roc\n",
        "fpr, tpr, _ = roc_curve(y_val, prediction)\n",
        "roc_auc = auc(fpr, tpr)\n",
        "\n",
        "# plot ROC curve graph\n",
        "plt.plot(fpr, tpr, color='green', lw=2, label='ROC curve (area = %0.3f)' % roc_auc)\n",
        "plt.plot([0, 1], [0, 1], color='red', lw=1, linestyle='dotted')\n",
        "plt.xlim([0.0, 1.0])\n",
        "plt.ylim([0.0, 1.2])\n",
        "plt.xlabel('FP Rate')\n",
        "plt.ylabel('TP Rate')\n",
        "plt.title('Random Forest ROC')\n",
        "plt.legend(loc=\"upper right\")\n",
        "plt.show()\n",
        "\n",
        "print(\"\\nAUC: \",roc_auc)\n",
        "\n",
        "f1_macro = f1_score(y_val, prediction, average='macro')\n",
        "print(\"f1 score: \",f1_macro) \n",
        "\n",
        "print(\"Accuracy:\",accuracy_score(y_val,prediction))\n",
        "\n",
        "print(\"Best parameters: \", grid_search.best_params_)"
      ],
      "metadata": {
        "colab": {
          "base_uri": "https://localhost:8080/",
          "height": 465
        },
        "id": "Patytwy-b708",
        "outputId": "4655772f-7a43-4f95-e340-b4b3f233135b"
      },
      "execution_count": null,
      "outputs": [
        {
          "output_type": "stream",
          "name": "stdout",
          "text": [
            "-----Confusion Matrix-----\n",
            "[[6933  161]\n",
            " [ 844  819]]\n",
            "\n",
            "\n"
          ]
        },
        {
          "output_type": "display_data",
          "data": {
            "text/plain": [
              "<Figure size 432x288 with 1 Axes>"
            ],
            "image/png": "[encoded data removed]"
          },
          "metadata": {
            "needs_background": "light"
          }
        },
        {
          "output_type": "stream",
          "name": "stdout",
          "text": [
            "\n",
            "AUC:  0.734894114104879\n",
            "f1 score:  0.7760845427315092\n",
            "Accuracy: 0.8852346694073313\n",
            "Best parameters:  {'max_depth': 80, 'min_samples_leaf': 4, 'min_samples_split': 7, 'n_estimators': 300}\n"
          ]
        }
      ]
    },
    {
      "cell_type": "code",
      "source": [
        "test_prediction=best_model.predict(x_test_selected)\n",
        "\n",
        "#for kaggle\n",
        "\n",
        "test_ids=test_data.index\n",
        "test_submission=pd.DataFrame({'id':test_ids, 'predicted':test_prediction})\n",
        "test_submission.to_csv(\"test_cutoff4_3.csv\",index=False)"
      ],
      "metadata": {
        "id": "TiG7oPxeKJbH"
      },
      "execution_count": null,
      "outputs": []
    },
    {
      "cell_type": "markdown",
      "source": [
        "`Your report should describe why certain model parameters help or hurt the model performance.\n",
        "\n",
        "You should report in your report the confusion\n",
        "matrix, ROC, AUC, macro F1 score, and accuracy for the best combination of hyperparameters using 5-fold cross-validation.`"
      ],
      "metadata": {
        "id": "nubSuEF9pbPD"
      }
    },
    {
      "cell_type": "markdown",
      "metadata": {
        "id": "eP5RJ1beZrLZ"
      },
      "source": [
        "# Multi Classification"
      ]
    },
    {
      "cell_type": "code",
      "execution_count": null,
      "metadata": {
        "id": "eKxyiV0VZrLa"
      },
      "outputs": [],
      "source": [
        "y_train=train_data[\"overall\"]"
      ]
    },
    {
      "cell_type": "code",
      "source": [
        "# select k best features\n",
        "k=5000\n",
        "selector = SelectKBest(f_classif, k=k)\n",
        "selector.fit(x_train, y_train)\n",
        "\n",
        "# transform train and test datasets with selected features\n",
        "x_train_selected = selector.transform(x_train)\n",
        "x_test_selected = selector.transform(x_test)"
      ],
      "metadata": {
        "id": "gOAB3YiNXyI_"
      },
      "execution_count": null,
      "outputs": []
    },
    {
      "cell_type": "markdown",
      "source": [
        "RandomForest"
      ],
      "metadata": {
        "id": "YT2exvWg7KdA"
      }
    },
    {
      "cell_type": "code",
      "source": [
        "rfc = RandomForestClassifier()\n",
        "\n",
        "X_train, X_val, y_train, y_val = train_test_split(x_train_selected, y_train, test_size=0.3, random_state=42)\n",
        "\n",
        "param_grid = {\n",
        "    'n_estimators': [1300],\n",
        "    'max_depth': [None],\n",
        "    'min_samples_split': [4],\n",
        "    'min_samples_leaf': [3],\n",
        "}\n",
        "\n",
        "\n",
        "# Grid Search\n",
        "grid_search = GridSearchCV(estimator=rfc, param_grid=param_grid, cv=5, n_jobs=-1)\n",
        "\n",
        "grid_search.fit(X_train, y_train)\n",
        "\n",
        "best_model=grid_search.best_estimator_\n",
        "\n",
        "prediction = best_model.predict(X_val)\n",
        "\n",
        "\n",
        "cm = confusion_matrix(y_val, prediction)\n",
        "print(\"-----Confusion Matrix-----\")\n",
        "print(cm)\n",
        "print(\"\\n\")\n",
        "\n",
        "# One-hot encoding for multi-class prediction\n",
        "n_classes = len(unique_labels(y_val, prediction))\n",
        "one_hot_prediction = (prediction[:, None] == np.arange(n_classes)).astype(float)\n",
        "\n",
        "# ROC curve\n",
        "fpr = dict()\n",
        "tpr = dict()\n",
        "roc_auc = dict()\n",
        "for i in range(n_classes):\n",
        "    fpr[i], tpr[i], _ = roc_curve((y_val == i).astype(float), one_hot_prediction[:, i])\n",
        "    roc_auc[i] = auc(fpr[i], tpr[i])\n",
        "\n",
        "# Plot ROC curve for each class\n",
        "plt.figure()\n",
        "for i in range(n_classes):\n",
        "    plt.plot(fpr[i], tpr[i], label=f'{i} : (AUC = {roc_auc[i]:.2f})')\n",
        "plt.plot([0, 1], [0, 1], 'k--')\n",
        "plt.xlim([0.0, 1.0])\n",
        "plt.ylim([0.0, 1.7])\n",
        "plt.xlabel('FP Rate')\n",
        "plt.ylabel('TP Rate')\n",
        "plt.title('Multi-classification Random Forest')\n",
        "plt.legend(loc=\"upper right\")\n",
        "plt.show()\n",
        "\n",
        "f1_macro = f1_score(y_val, prediction, average='macro')\n",
        "print(\"f1 score: \",f1_macro) \n",
        "print(\"Accuracy:\",accuracy_score(y_val,prediction))\n",
        "print(\"Best parameters: \", grid_search.best_params_)"
      ],
      "metadata": {
        "id": "EXJrjOlECOTy",
        "colab": {
          "base_uri": "https://localhost:8080/",
          "height": 534
        },
        "outputId": "46fc21db-4282-47fd-a69a-ec9ae8a4f40e"
      },
      "execution_count": null,
      "outputs": [
        {
          "output_type": "stream",
          "name": "stdout",
          "text": [
            "-----Confusion Matrix-----\n",
            "[[1277  369   64   54   61]\n",
            " [ 459  865  239  135   75]\n",
            " [ 164  411  800  322   94]\n",
            " [  87  164  226  941  287]\n",
            " [  85   82   56  293 1147]]\n",
            "\n",
            "\n"
          ]
        },
        {
          "output_type": "stream",
          "name": "stderr",
          "text": [
            "/usr/local/lib/python3.8/dist-packages/sklearn/metrics/_ranking.py:1029: UndefinedMetricWarning: No positive samples in y_true, true positive value should be meaningless\n",
            "  warnings.warn(\n"
          ]
        },
        {
          "output_type": "display_data",
          "data": {
            "text/plain": [
              "<Figure size 432x288 with 1 Axes>"
            ],
            "image/png": "[encoded data removed]"
          },
          "metadata": {
            "needs_background": "light"
          }
        },
        {
          "output_type": "stream",
          "name": "stdout",
          "text": [
            "f1 score:  0.5732666310589538\n",
            "Accuracy: 0.574397624757337\n",
            "Best parameters:  {'max_depth': None, 'min_samples_leaf': 3, 'min_samples_split': 4, 'n_estimators': 1300}\n"
          ]
        }
      ]
    },
    {
      "cell_type": "markdown",
      "source": [
        "LogisticRegression"
      ],
      "metadata": {
        "id": "fKLae9wT7Msj"
      }
    },
    {
      "cell_type": "code",
      "source": [
        "model=LogisticRegression()\n",
        "\n",
        "X_train, X_val, y_train, y_val = train_test_split(x_train_selected, y_train, test_size=0.3, random_state=42)\n",
        "\n",
        "\n",
        "#hyperparameters\n",
        "param_grid = {'C': [45],\n",
        "              'solver':['saga'], \n",
        "              'max_iter': [70],\n",
        "              }\n",
        "\n",
        "\n",
        "# Initialize GridSearchCV\n",
        "grid_search = GridSearchCV(estimator=model, \n",
        "                           param_grid=param_grid, \n",
        "                           cv=5, \n",
        "                           scoring=make_scorer(accuracy_score))\n",
        "\n",
        "grid_search.fit(X_train, y_train)\n",
        "\n",
        "best_model=grid_search.best_estimator_\n",
        "\n",
        "prediction = best_model.predict(X_val)\n",
        "\n",
        "\n",
        "cm = confusion_matrix(y_val, prediction)\n",
        "print(\"-----Confusion Matrix-----\")\n",
        "print(cm)\n",
        "print(\"\\n\")\n",
        "\n",
        "# One-hot encoding for multi-class prediction\n",
        "n_classes = len(unique_labels(y_val, prediction))\n",
        "one_hot_prediction = (prediction[:, None] == np.arange(n_classes)).astype(float)\n",
        "\n",
        "# ROC curve\n",
        "fpr = dict()\n",
        "tpr = dict()\n",
        "roc_auc = dict()\n",
        "for i in range(n_classes):\n",
        "    fpr[i], tpr[i], _ = roc_curve((y_val == i).astype(float), one_hot_prediction[:, i])\n",
        "    roc_auc[i] = auc(fpr[i], tpr[i])\n",
        "\n",
        "# Plot ROC curve for each class\n",
        "plt.figure()\n",
        "for i in range(n_classes):\n",
        "    plt.plot(fpr[i], tpr[i], label=f'{i} : (AUC = {roc_auc[i]:.2f})')\n",
        "plt.plot([0, 1], [0, 1], 'k--')\n",
        "plt.xlim([0.0, 1.0])\n",
        "plt.ylim([0.0, 1.7])\n",
        "plt.xlabel('FP Rate')\n",
        "plt.ylabel('TP Rate')\n",
        "plt.title('Multi-classification Logistic Regression')\n",
        "plt.legend(loc=\"upper right\")\n",
        "plt.show()\n",
        "\n",
        "f1_macro = f1_score(y_val, prediction, average='macro')\n",
        "print(\"f1 score: \",f1_macro) \n",
        "print(\"Accuracy:\",accuracy_score(y_val,prediction))\n",
        "print(\"Best parameters: \", grid_search.best_params_)"
      ],
      "metadata": {
        "colab": {
          "base_uri": "https://localhost:8080/",
          "height": 754
        },
        "id": "spIWyCPJ7piV",
        "outputId": "738fc0c7-0570-44eb-9bd8-3fe1d88cd6af"
      },
      "execution_count": null,
      "outputs": [
        {
          "output_type": "stream",
          "name": "stderr",
          "text": [
            "/usr/local/lib/python3.8/dist-packages/sklearn/linear_model/_sag.py:350: ConvergenceWarning: The max_iter was reached which means the coef_ did not converge\n",
            "  warnings.warn(\n",
            "/usr/local/lib/python3.8/dist-packages/sklearn/linear_model/_sag.py:350: ConvergenceWarning: The max_iter was reached which means the coef_ did not converge\n",
            "  warnings.warn(\n",
            "/usr/local/lib/python3.8/dist-packages/sklearn/linear_model/_sag.py:350: ConvergenceWarning: The max_iter was reached which means the coef_ did not converge\n",
            "  warnings.warn(\n",
            "/usr/local/lib/python3.8/dist-packages/sklearn/linear_model/_sag.py:350: ConvergenceWarning: The max_iter was reached which means the coef_ did not converge\n",
            "  warnings.warn(\n",
            "/usr/local/lib/python3.8/dist-packages/sklearn/linear_model/_sag.py:350: ConvergenceWarning: The max_iter was reached which means the coef_ did not converge\n",
            "  warnings.warn(\n",
            "/usr/local/lib/python3.8/dist-packages/sklearn/linear_model/_sag.py:350: ConvergenceWarning: The max_iter was reached which means the coef_ did not converge\n",
            "  warnings.warn(\n",
            "/usr/local/lib/python3.8/dist-packages/sklearn/metrics/_ranking.py:1029: UndefinedMetricWarning: No positive samples in y_true, true positive value should be meaningless\n",
            "  warnings.warn(\n"
          ]
        },
        {
          "output_type": "stream",
          "name": "stdout",
          "text": [
            "-----Confusion Matrix-----\n",
            "[[1206  389  133   54   43]\n",
            " [ 362  920  309  133   49]\n",
            " [ 132  341  924  302   92]\n",
            " [  56  129  241  965  314]\n",
            " [  38   47  101  291 1186]]\n",
            "\n",
            "\n"
          ]
        },
        {
          "output_type": "display_data",
          "data": {
            "text/plain": [
              "<Figure size 432x288 with 1 Axes>"
            ],
            "image/png": "[encoded data removed]"
          },
          "metadata": {
            "needs_background": "light"
          }
        },
        {
          "output_type": "stream",
          "name": "stdout",
          "text": [
            "f1 score:  0.5948002245698316\n",
            "Accuracy: 0.5939248601119105\n",
            "Best parameters:  {'C': 45, 'max_iter': 70, 'solver': 'saga'}\n"
          ]
        }
      ]
    },
    {
      "cell_type": "code",
      "source": [
        "test_prediction=best_model.predict(x_test_selected)\n",
        "\n",
        "#for kaggle\n",
        "\n",
        "test_ids=test_data.index\n",
        "test_submission=pd.DataFrame({'id':test_ids, 'predicted':test_prediction})\n",
        "test_submission.to_csv(\"test_multi_1.csv\",index=False)"
      ],
      "metadata": {
        "id": "8kVxnDTWOBSv"
      },
      "execution_count": null,
      "outputs": []
    },
    {
      "cell_type": "markdown",
      "source": [
        "DecisionTree Classifier"
      ],
      "metadata": {
        "id": "yLChfLdZ7VQo"
      }
    },
    {
      "cell_type": "code",
      "source": [
        "model = DecisionTreeClassifier()\n",
        "\n",
        "X_train, X_val, y_train, y_val = train_test_split(x_train_selected, y_train, test_size=0.3, random_state=42)\n",
        "\n",
        "param_grid = {\n",
        "    'criterion': ['gini'],\n",
        "    'max_depth': [25],\n",
        "    'min_samples_split': [2],\n",
        "    'min_samples_leaf': [1]\n",
        "}\n",
        "\n",
        "# Grid Search\n",
        "grid_search = GridSearchCV(estimator=model, param_grid=param_grid, cv=5, n_jobs=-1)\n",
        "\n",
        "grid_search.fit(X_train, y_train)\n",
        "\n",
        "best_model=grid_search.best_estimator_\n",
        "\n",
        "prediction = best_model.predict(X_val)\n",
        "\n",
        "\n",
        "cm = confusion_matrix(y_val, prediction)\n",
        "print(\"-----Confusion Matrix-----\")\n",
        "print(cm)\n",
        "print(\"\\n\")\n",
        "\n",
        "# One-hot encoding for multi-class prediction\n",
        "n_classes = len(unique_labels(y_val, prediction))\n",
        "one_hot_prediction = (prediction[:, None] == np.arange(n_classes)).astype(float)\n",
        "\n",
        "# ROC curve\n",
        "fpr = dict()\n",
        "tpr = dict()\n",
        "roc_auc = dict()\n",
        "for i in range(n_classes):\n",
        "    fpr[i], tpr[i], _ = roc_curve((y_val == i).astype(float), one_hot_prediction[:, i])\n",
        "    roc_auc[i] = auc(fpr[i], tpr[i])\n",
        "\n",
        "# Plot ROC curve for each class\n",
        "plt.figure()\n",
        "for i in range(n_classes):\n",
        "    plt.plot(fpr[i], tpr[i], label=f'{i} : (AUC = {roc_auc[i]:.2f})')\n",
        "plt.plot([0, 1], [0, 1], 'k--')\n",
        "plt.xlim([0.0, 1.0])\n",
        "plt.ylim([0.0, 1.7])\n",
        "plt.xlabel('FP Rate')\n",
        "plt.ylabel('TP Rate')\n",
        "plt.title('Multi-classification Decision Tree')\n",
        "plt.legend(loc=\"upper right\")\n",
        "plt.show()\n",
        "\n",
        "f1_macro = f1_score(y_val, prediction, average='macro')\n",
        "print(\"f1 score: \",f1_macro) \n",
        "print(\"Accuracy:\",accuracy_score(y_val,prediction))\n",
        "print(\"Best parameters: \", grid_search.best_params_)"
      ],
      "metadata": {
        "id": "MvlKf7iK8VC2",
        "colab": {
          "base_uri": "https://localhost:8080/",
          "height": 534
        },
        "outputId": "5d5ff151-0c61-4af3-8e05-3a7e4150c81a"
      },
      "execution_count": null,
      "outputs": [
        {
          "output_type": "stream",
          "name": "stdout",
          "text": [
            "-----Confusion Matrix-----\n",
            "[[1182  327  146   98   72]\n",
            " [ 590  689  248  166   80]\n",
            " [ 370  412  637  271  101]\n",
            " [ 272  268  220  688  257]\n",
            " [ 314  140   99  233  877]]\n",
            "\n",
            "\n"
          ]
        },
        {
          "output_type": "stream",
          "name": "stderr",
          "text": [
            "/usr/local/lib/python3.8/dist-packages/sklearn/metrics/_ranking.py:1029: UndefinedMetricWarning: No positive samples in y_true, true positive value should be meaningless\n",
            "  warnings.warn(\n"
          ]
        },
        {
          "output_type": "display_data",
          "data": {
            "text/plain": [
              "<Figure size 432x288 with 1 Axes>"
            ],
            "image/png": "[encoded data removed]"
          },
          "metadata": {
            "needs_background": "light"
          }
        },
        {
          "output_type": "stream",
          "name": "stdout",
          "text": [
            "f1 score:  0.4634063758169294\n",
            "Accuracy: 0.4651136233870047\n",
            "Best parameters:  {'criterion': 'gini', 'max_depth': 25, 'min_samples_leaf': 1, 'min_samples_split': 2}\n"
          ]
        }
      ]
    },
    {
      "cell_type": "markdown",
      "source": [
        "report the confusion matrix, ROC, AUC, macro F1 score, and accuracy"
      ],
      "metadata": {
        "id": "10ub9MS5ddn1"
      }
    },
    {
      "cell_type": "markdown",
      "metadata": {
        "id": "AQP65SOnZrLb"
      },
      "source": [
        "# Clustering"
      ]
    },
    {
      "cell_type": "code",
      "execution_count": null,
      "metadata": {
        "id": "X41QDZwLZrLc"
      },
      "outputs": [],
      "source": [
        "#cluster the product reviews in the test dataset\n",
        "#need to create word features from the data and use that for k-means clustering\n",
        "#labels will be product categories\n",
        "\n",
        "#use the Silhouette score and Rand index to analyze the quality of clustering\n",
        "#will share a baseline silhouette score for clustering, and your model must achieve at least the baseline score for full credit."
      ]
    },
    {
      "cell_type": "code",
      "source": [
        "categories = len(test_data['category'].unique()) \n",
        "#train_data['category'].unique()"
      ],
      "metadata": {
        "id": "A7Ut5hYK1yky"
      },
      "execution_count": null,
      "outputs": []
    },
    {
      "cell_type": "code",
      "source": [
        "type(test_data[\"reviewText\"])\n",
        "\n",
        "vectorizer = CountVectorizer(stop_words='english', \n",
        "                             lowercase=True,\n",
        "                             )\n",
        "\n",
        "x_test_vectorized = vectorizer.fit_transform(test_data['reviewText'])"
      ],
      "metadata": {
        "id": "hrzvLtOE_I7l"
      },
      "execution_count": null,
      "outputs": []
    },
    {
      "cell_type": "code",
      "source": [
        "# Perform k-means clustering with k=5 40\n",
        "kmeans = KMeans(n_clusters=5, random_state=40)\n",
        "kmeans.fit(x_test_vectorized)\n",
        "cluster_labels=kmeans.labels_\n",
        "\n",
        "# Evaluate clustering quality using Silhouette score and Rand index\n",
        "silhouette = silhouette_score(x_test_vectorized, cluster_labels)\n",
        "rand_index = rand_score(test_data[\"category\"], cluster_labels)\n",
        "\n",
        "print(\"Silhouette score: \", silhouette)\n",
        "print(\"Rand index: \", rand_index)\n"
      ],
      "metadata": {
        "colab": {
          "base_uri": "https://localhost:8080/"
        },
        "id": "5zcvtSuNbc6C",
        "outputId": "a2e40f5b-95f5-47f2-fdc2-df5a7b1ca2ca"
      },
      "execution_count": null,
      "outputs": [
        {
          "output_type": "stream",
          "name": "stderr",
          "text": [
            "/usr/local/lib/python3.8/dist-packages/sklearn/cluster/_kmeans.py:870: FutureWarning: The default value of `n_init` will change from 10 to 'auto' in 1.4. Set the value of `n_init` explicitly to suppress the warning\n",
            "  warnings.warn(\n"
          ]
        },
        {
          "output_type": "stream",
          "name": "stdout",
          "text": [
            "Silhouette score:  0.7233433128592512\n",
            "Rand index:  0.17034521251636167\n"
          ]
        }
      ]
    }
  ],
  "metadata": {
    "kernelspec": {
      "display_name": "Python 3 (ipykernel)",
      "language": "python",
      "name": "python3"
    },
    "language_info": {
      "codemirror_mode": {
        "name": "ipython",
        "version": 3
      },
      "file_extension": ".py",
      "mimetype": "text/x-python",
      "name": "python",
      "nbconvert_exporter": "python",
      "pygments_lexer": "ipython3",
      "version": "3.10.7"
    },
    "colab": {
      "provenance": [],
      "collapsed_sections": [
        "tVKiPfa-ZrLL",
        "h2-BFGx1ZrLN",
        "WZQIzTIZZrLT",
        "wftSaXvkG8YR",
        "3GnbwOWJUJUA",
        "5088ygCvah0i"
      ]
    },
    "gpuClass": "premium",
    "accelerator": "GPU"
  },
  "nbformat": 4,
  "nbformat_minor": 0
}